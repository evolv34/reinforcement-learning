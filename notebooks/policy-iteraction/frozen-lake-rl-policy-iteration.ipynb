{
 "cells": [
  {
   "cell_type": "code",
   "execution_count": 2,
   "id": "ee5f7a04-83b0-4144-aa21-f35aad8c7642",
   "metadata": {},
   "outputs": [
    {
     "name": "stdout",
     "output_type": "stream",
     "text": [
      "Requirement already satisfied: gymnasium==0.29.1 in /opt/conda/lib/python3.8/site-packages (0.29.1)\n",
      "Requirement already satisfied: farama-notifications>=0.0.1 in /opt/conda/lib/python3.8/site-packages (from gymnasium==0.29.1) (0.0.4)\n",
      "Requirement already satisfied: cloudpickle>=1.2.0 in /opt/conda/lib/python3.8/site-packages (from gymnasium==0.29.1) (3.0.0)\n",
      "Requirement already satisfied: importlib-metadata>=4.8.0 in /opt/conda/lib/python3.8/site-packages (from gymnasium==0.29.1) (7.1.0)\n",
      "Requirement already satisfied: numpy>=1.21.0 in /opt/conda/lib/python3.8/site-packages (from gymnasium==0.29.1) (1.24.4)\n",
      "Requirement already satisfied: typing-extensions>=4.3.0 in /opt/conda/lib/python3.8/site-packages (from gymnasium==0.29.1) (4.12.1)\n",
      "Requirement already satisfied: zipp>=0.5 in /opt/conda/lib/python3.8/site-packages (from importlib-metadata>=4.8.0->gymnasium==0.29.1) (3.4.1)\n",
      "Requirement already satisfied: gymnasium[toy-text] in /opt/conda/lib/python3.8/site-packages (0.29.1)\n",
      "Requirement already satisfied: farama-notifications>=0.0.1 in /opt/conda/lib/python3.8/site-packages (from gymnasium[toy-text]) (0.0.4)\n",
      "Requirement already satisfied: numpy>=1.21.0 in /opt/conda/lib/python3.8/site-packages (from gymnasium[toy-text]) (1.24.4)\n",
      "Requirement already satisfied: cloudpickle>=1.2.0 in /opt/conda/lib/python3.8/site-packages (from gymnasium[toy-text]) (3.0.0)\n",
      "Requirement already satisfied: importlib-metadata>=4.8.0 in /opt/conda/lib/python3.8/site-packages (from gymnasium[toy-text]) (7.1.0)\n",
      "Requirement already satisfied: typing-extensions>=4.3.0 in /opt/conda/lib/python3.8/site-packages (from gymnasium[toy-text]) (4.12.1)\n",
      "Requirement already satisfied: pygame>=2.1.3 in /opt/conda/lib/python3.8/site-packages (from gymnasium[toy-text]) (2.5.2)\n",
      "Requirement already satisfied: zipp>=0.5 in /opt/conda/lib/python3.8/site-packages (from importlib-metadata>=4.8.0->gymnasium[toy-text]) (3.4.1)\n"
     ]
    }
   ],
   "source": [
    "!pip install gymnasium==0.29.1\n",
    "!pip install gymnasium[toy-text]"
   ]
  },
  {
   "cell_type": "code",
   "execution_count": 1,
   "id": "db81a9a6-d1b9-436a-a9bf-3fd51ee7a205",
   "metadata": {},
   "outputs": [
    {
     "name": "stdout",
     "output_type": "stream",
     "text": [
      "GYM Version = [0.29.1]\n",
      "Numpy Version = [1.24.4]\n"
     ]
    }
   ],
   "source": [
    "import gymnasium as gym\n",
    "from gymnasium.wrappers.time_limit import TimeLimit\n",
    "import numpy as np\n",
    "print(f\"GYM Version = [{gym.__version__}]\")\n",
    "print(f\"Numpy Version = [{np.__version__}]\")"
   ]
  },
  {
   "cell_type": "markdown",
   "id": "2f5cff54-17cb-4c20-ba7f-3676912bd1ce",
   "metadata": {},
   "source": [
    "## Fronzen Lake"
   ]
  },
  {
   "cell_type": "code",
   "execution_count": 2,
   "id": "5e3a7387-305f-4c5e-9df3-7cb078bc5e64",
   "metadata": {},
   "outputs": [],
   "source": [
    "env=gym.make(\"FrozenLake-v1\",render_mode=\"ansi\")"
   ]
  },
  {
   "cell_type": "markdown",
   "id": "38350fd6-aa4a-4b78-bd02-c8eec461682c",
   "metadata": {},
   "source": [
    "### Model Dynamics"
   ]
  },
  {
   "cell_type": "code",
   "execution_count": 3,
   "id": "5c04304a-730f-42c4-8409-69619ffe5fba",
   "metadata": {},
   "outputs": [
    {
     "name": "stdout",
     "output_type": "stream",
     "text": [
      "Action Space = Discrete(4)\n",
      "State Space = Discrete(16)\n",
      "Reward Range = (0, 1)\n"
     ]
    }
   ],
   "source": [
    "print(f\"Action Space = {env.action_space}\")\n",
    "print(f\"State Space = {env.observation_space}\")\n",
    "print(f\"Reward Range = {env.reward_range}\")"
   ]
  },
  {
   "cell_type": "code",
   "execution_count": 4,
   "id": "414982c6-78c7-4c11-b5ad-9abf65757945",
   "metadata": {},
   "outputs": [
    {
     "data": {
      "text/plain": [
       "{0: [(0.3333333333333333, 0, 0.0, False),\n",
       "  (0.3333333333333333, 4, 0.0, False),\n",
       "  (0.3333333333333333, 8, 0.0, False)],\n",
       " 1: [(0.3333333333333333, 4, 0.0, False),\n",
       "  (0.3333333333333333, 8, 0.0, False),\n",
       "  (0.3333333333333333, 5, 0.0, True)],\n",
       " 2: [(0.3333333333333333, 8, 0.0, False),\n",
       "  (0.3333333333333333, 5, 0.0, True),\n",
       "  (0.3333333333333333, 0, 0.0, False)],\n",
       " 3: [(0.3333333333333333, 5, 0.0, True),\n",
       "  (0.3333333333333333, 0, 0.0, False),\n",
       "  (0.3333333333333333, 4, 0.0, False)]}"
      ]
     },
     "execution_count": 4,
     "metadata": {},
     "output_type": "execute_result"
    }
   ],
   "source": [
    "env.get_wrapper_attr('P')[4]"
   ]
  },
  {
   "cell_type": "code",
   "execution_count": 5,
   "id": "c6603151-6d7b-4ee6-924e-a20cd2dfcb5c",
   "metadata": {},
   "outputs": [
    {
     "name": "stdout",
     "output_type": "stream",
     "text": [
      "\n",
      "\u001b[41mS\u001b[0mFFF\n",
      "FHFH\n",
      "FFFH\n",
      "HFFG\n",
      "\n"
     ]
    }
   ],
   "source": [
    "env.reset()\n",
    "print(env.render())"
   ]
  },
  {
   "cell_type": "code",
   "execution_count": 6,
   "id": "b6241750-f35e-4e74-ae44-e63613e69ccc",
   "metadata": {},
   "outputs": [],
   "source": [
    "# 1. Initialize a policy function with action 0 for each state\n",
    "# 2. Calculate value function for the policy\n",
    "# 3. Calculate new Q function with the value function from #2 \n",
    "# 4. check if new polciy is equal to optimal policy\n",
    "# 5. If yes break the loop\n",
    "# 6. calculate optimal policy. "
   ]
  },
  {
   "cell_type": "code",
   "execution_count": 7,
   "id": "a9f4c3f1-b3af-4d73-b8a9-de1b229b3120",
   "metadata": {},
   "outputs": [],
   "source": [
    "p = env.get_wrapper_attr(\"P\")"
   ]
  },
  {
   "cell_type": "code",
   "execution_count": 8,
   "id": "8155a947-f0c9-41ad-9884-6c3a9574ba3d",
   "metadata": {},
   "outputs": [
    {
     "data": {
      "text/plain": [
       "gymnasium.wrappers.time_limit.TimeLimit"
      ]
     },
     "execution_count": 8,
     "metadata": {},
     "output_type": "execute_result"
    }
   ],
   "source": [
    "type(env)"
   ]
  },
  {
   "cell_type": "code",
   "execution_count": 22,
   "id": "c2f5adba-e380-42f5-8484-be3dc6807c56",
   "metadata": {},
   "outputs": [],
   "source": [
    "def value_iteration(policy, e: TimeLimit):\n",
    "    values_table = np.zeros(e.observation_space.n)\n",
    "    num_iterations = 10\n",
    "    gamma = 100\n",
    "    \n",
    "    for t in range(num_iterations):\n",
    "        for s in range(e.observation_space.n):\n",
    "            actions = p[s]\n",
    "            action = actions[policy[s]]\n",
    "            value = 0.0\n",
    "            for prob, next_action, reward, _ in action:\n",
    "                value += prob * (reward + gamma * values_table[next_action])\n",
    "            values_table[s] = value\n",
    "#         print(values_table)\n",
    "    return values_table"
   ]
  },
  {
   "cell_type": "code",
   "execution_count": 29,
   "id": "6765f813-3f03-4823-9b39-b52df5c95899",
   "metadata": {},
   "outputs": [],
   "source": [
    "def calulate_policy(values_table:list):\n",
    "    gamma = 1\n",
    "    policy = np.zeros(env.observation_space.n)\n",
    "    \n",
    "    for state, value in enumerate(values_table):    \n",
    "        q_values = np.zeros(env.action_space.n)\n",
    "        for action in range(env.action_space.n):\n",
    "            q_value = 0.0\n",
    "            for prob, next_action, reward, _ in p[state][action]:\n",
    "                q_value += prob * (reward + gamma * values_table[next_action])\n",
    "                q_values[action] = q_value\n",
    "        policy[state] = np.argmax(q_values)\n",
    "    \n",
    "    return policy"
   ]
  },
  {
   "cell_type": "code",
   "execution_count": 30,
   "id": "84d3c553-cf55-423e-a1d4-41b1a9be6403",
   "metadata": {},
   "outputs": [],
   "source": [
    "def policy_iteration(e: TimeLimit):\n",
    "    optimal_policy = np.zeros(e.observation_space.n)\n",
    "    num_iterations = 100\n",
    "    \n",
    "    for i in range(num_iterations):\n",
    "        values_table = value_iteration(optimal_policy, e)\n",
    "        new_policy = calulate_policy(values_table)\n",
    "        \n",
    "#         if new_policy == optimal_policy:\n",
    "#             break\n",
    "        optimal_policy = new_policy\n",
    "    return optimal_policy"
   ]
  },
  {
   "cell_type": "code",
   "execution_count": 31,
   "id": "a6847745-886c-4af2-8af4-1e62f6338686",
   "metadata": {},
   "outputs": [
    {
     "name": "stdout",
     "output_type": "stream",
     "text": [
      "[1. 3. 2. 3. 0. 0. 0. 0. 3. 1. 0. 0. 0. 2. 1. 0.]\n"
     ]
    }
   ],
   "source": [
    "policy = policy_iteration(env)\n",
    "print(policy)"
   ]
  },
  {
   "cell_type": "code",
   "execution_count": null,
   "id": "a9cfa02f-5b07-4983-b062-8ac1d9034dd8",
   "metadata": {},
   "outputs": [],
   "source": []
  }
 ],
 "metadata": {
  "kernelspec": {
   "display_name": "Python 3",
   "language": "python",
   "name": "python3"
  },
  "language_info": {
   "codemirror_mode": {
    "name": "ipython",
    "version": 3
   },
   "file_extension": ".py",
   "mimetype": "text/x-python",
   "name": "python",
   "nbconvert_exporter": "python",
   "pygments_lexer": "ipython3",
   "version": "3.8.8"
  }
 },
 "nbformat": 4,
 "nbformat_minor": 5
}
