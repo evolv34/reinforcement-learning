{
 "cells": [
  {
   "cell_type": "markdown",
   "id": "2f1d9b66-067c-49d7-a04b-d5252bc9a884",
   "metadata": {},
   "source": [
    "# MC-Prediction-EveryVisit"
   ]
  },
  {
   "cell_type": "code",
   "execution_count": 1,
   "id": "aff1d8ee-09aa-488a-ba7b-cd16aa3e8c09",
   "metadata": {},
   "outputs": [
    {
     "name": "stdout",
     "output_type": "stream",
     "text": [
      "Requirement already satisfied: gymnasium==0.29.1 in /opt/conda/lib/python3.8/site-packages (0.29.1)\n",
      "Requirement already satisfied: cloudpickle>=1.2.0 in /opt/conda/lib/python3.8/site-packages (from gymnasium==0.29.1) (3.0.0)\n",
      "Requirement already satisfied: importlib-metadata>=4.8.0 in /opt/conda/lib/python3.8/site-packages (from gymnasium==0.29.1) (7.1.0)\n",
      "Requirement already satisfied: numpy>=1.21.0 in /opt/conda/lib/python3.8/site-packages (from gymnasium==0.29.1) (1.24.4)\n",
      "Requirement already satisfied: typing-extensions>=4.3.0 in /opt/conda/lib/python3.8/site-packages (from gymnasium==0.29.1) (4.12.1)\n",
      "Requirement already satisfied: farama-notifications>=0.0.1 in /opt/conda/lib/python3.8/site-packages (from gymnasium==0.29.1) (0.0.4)\n",
      "Requirement already satisfied: zipp>=0.5 in /opt/conda/lib/python3.8/site-packages (from importlib-metadata>=4.8.0->gymnasium==0.29.1) (3.4.1)\n",
      "Requirement already satisfied: gymnasium[toy-text] in /opt/conda/lib/python3.8/site-packages (0.29.1)\n",
      "Requirement already satisfied: typing-extensions>=4.3.0 in /opt/conda/lib/python3.8/site-packages (from gymnasium[toy-text]) (4.12.1)\n",
      "Requirement already satisfied: farama-notifications>=0.0.1 in /opt/conda/lib/python3.8/site-packages (from gymnasium[toy-text]) (0.0.4)\n",
      "Requirement already satisfied: numpy>=1.21.0 in /opt/conda/lib/python3.8/site-packages (from gymnasium[toy-text]) (1.24.4)\n",
      "Requirement already satisfied: cloudpickle>=1.2.0 in /opt/conda/lib/python3.8/site-packages (from gymnasium[toy-text]) (3.0.0)\n",
      "Requirement already satisfied: importlib-metadata>=4.8.0 in /opt/conda/lib/python3.8/site-packages (from gymnasium[toy-text]) (7.1.0)\n",
      "Requirement already satisfied: pygame>=2.1.3 in /opt/conda/lib/python3.8/site-packages (from gymnasium[toy-text]) (2.5.2)\n",
      "Requirement already satisfied: zipp>=0.5 in /opt/conda/lib/python3.8/site-packages (from importlib-metadata>=4.8.0->gymnasium[toy-text]) (3.4.1)\n"
     ]
    }
   ],
   "source": [
    "!pip install gymnasium==0.29.1\n",
    "!pip install gymnasium[toy-text]"
   ]
  },
  {
   "cell_type": "code",
   "execution_count": 2,
   "id": "bdc1ae80-7a08-4171-b1d1-75337bacfcb7",
   "metadata": {},
   "outputs": [],
   "source": [
    "import gymnasium as gym\n",
    "import numpy as np"
   ]
  },
  {
   "cell_type": "code",
   "execution_count": 3,
   "id": "b14b0374-c9c8-452e-97b2-903cd5dc3f8a",
   "metadata": {},
   "outputs": [],
   "source": [
    "env = gym.make(\"Blackjack-v1\", natural=False, sab=False)"
   ]
  },
  {
   "cell_type": "code",
   "execution_count": 14,
   "id": "761a4665-3a39-47b4-b8bc-3ede64ae7fb2",
   "metadata": {},
   "outputs": [
    {
     "data": {
      "text/plain": [
       "((13, 2, 0), {})"
      ]
     },
     "execution_count": 14,
     "metadata": {},
     "output_type": "execute_result"
    }
   ],
   "source": [
    "env.reset()"
   ]
  },
  {
   "cell_type": "code",
   "execution_count": 22,
   "id": "9d9b1e24-1cde-4e15-969f-928d422c9f26",
   "metadata": {},
   "outputs": [],
   "source": [
    "def policy(state):\n",
    "    return 0 if state[0] > 19 else 1"
   ]
  },
  {
   "cell_type": "code",
   "execution_count": null,
   "id": "440d039f-d0f1-41ba-820f-b94fad36c68a",
   "metadata": {},
   "outputs": [],
   "source": []
  }
 ],
 "metadata": {
  "kernelspec": {
   "display_name": "Python 3",
   "language": "python",
   "name": "python3"
  },
  "language_info": {
   "codemirror_mode": {
    "name": "ipython",
    "version": 3
   },
   "file_extension": ".py",
   "mimetype": "text/x-python",
   "name": "python",
   "nbconvert_exporter": "python",
   "pygments_lexer": "ipython3",
   "version": "3.8.8"
  }
 },
 "nbformat": 4,
 "nbformat_minor": 5
}
