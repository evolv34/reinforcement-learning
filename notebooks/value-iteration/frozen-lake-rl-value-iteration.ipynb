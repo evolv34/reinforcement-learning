{
 "cells": [
  {
   "cell_type": "markdown",
   "id": "f9d6921b-9f6d-437f-b08c-6dc87d3e8c3b",
   "metadata": {},
   "source": [
    "# Value Iteration Method"
   ]
  },
  {
   "cell_type": "code",
   "execution_count": 2,
   "id": "a249ab59-853e-4b5e-ae08-4736ab7091cf",
   "metadata": {},
   "outputs": [
    {
     "name": "stdout",
     "output_type": "stream",
     "text": [
      "Requirement already satisfied: gymnasium==0.29.1 in /opt/conda/lib/python3.8/site-packages (0.29.1)\n",
      "Requirement already satisfied: importlib-metadata>=4.8.0 in /opt/conda/lib/python3.8/site-packages (from gymnasium==0.29.1) (7.1.0)\n",
      "Requirement already satisfied: typing-extensions>=4.3.0 in /opt/conda/lib/python3.8/site-packages (from gymnasium==0.29.1) (4.12.0)\n",
      "Requirement already satisfied: farama-notifications>=0.0.1 in /opt/conda/lib/python3.8/site-packages (from gymnasium==0.29.1) (0.0.4)\n",
      "Requirement already satisfied: cloudpickle>=1.2.0 in /opt/conda/lib/python3.8/site-packages (from gymnasium==0.29.1) (3.0.0)\n",
      "Requirement already satisfied: numpy>=1.21.0 in /opt/conda/lib/python3.8/site-packages (from gymnasium==0.29.1) (1.24.4)\n",
      "Requirement already satisfied: zipp>=0.5 in /opt/conda/lib/python3.8/site-packages (from importlib-metadata>=4.8.0->gymnasium==0.29.1) (3.4.1)\n",
      "Requirement already satisfied: gymnasium[toy-text] in /opt/conda/lib/python3.8/site-packages (0.29.1)\n",
      "Requirement already satisfied: cloudpickle>=1.2.0 in /opt/conda/lib/python3.8/site-packages (from gymnasium[toy-text]) (3.0.0)\n",
      "Requirement already satisfied: importlib-metadata>=4.8.0 in /opt/conda/lib/python3.8/site-packages (from gymnasium[toy-text]) (7.1.0)\n",
      "Requirement already satisfied: farama-notifications>=0.0.1 in /opt/conda/lib/python3.8/site-packages (from gymnasium[toy-text]) (0.0.4)\n",
      "Requirement already satisfied: numpy>=1.21.0 in /opt/conda/lib/python3.8/site-packages (from gymnasium[toy-text]) (1.24.4)\n",
      "Requirement already satisfied: typing-extensions>=4.3.0 in /opt/conda/lib/python3.8/site-packages (from gymnasium[toy-text]) (4.12.0)\n",
      "Requirement already satisfied: pygame>=2.1.3 in /opt/conda/lib/python3.8/site-packages (from gymnasium[toy-text]) (2.5.2)\n",
      "Requirement already satisfied: zipp>=0.5 in /opt/conda/lib/python3.8/site-packages (from importlib-metadata>=4.8.0->gymnasium[toy-text]) (3.4.1)\n"
     ]
    }
   ],
   "source": [
    "!pip install gymnasium==0.29.1\n",
    "!pip install gymnasium[toy-text]"
   ]
  },
  {
   "cell_type": "code",
   "execution_count": 3,
   "id": "4a84de18-508f-4873-9fa6-bf4fec7e6d6b",
   "metadata": {},
   "outputs": [],
   "source": [
    "import gymnasium as gym"
   ]
  },
  {
   "cell_type": "code",
   "execution_count": 4,
   "id": "def9f6cc-ae29-49d7-9de6-724ba3278201",
   "metadata": {},
   "outputs": [
    {
     "data": {
      "text/plain": [
       "'0.29.1'"
      ]
     },
     "execution_count": 4,
     "metadata": {},
     "output_type": "execute_result"
    }
   ],
   "source": [
    "gym.__version__"
   ]
  },
  {
   "cell_type": "markdown",
   "id": "e15f7522-5a80-4bde-b143-b3857984c7d3",
   "metadata": {},
   "source": [
    "## Fronzen Lake\n"
   ]
  },
  {
   "cell_type": "code",
   "execution_count": 5,
   "id": "f9def9ac-0afa-4ba9-9404-b7952f09c1e5",
   "metadata": {},
   "outputs": [],
   "source": [
    "env=gym.make(\"FrozenLake-v1\",render_mode=\"ansi\")"
   ]
  },
  {
   "cell_type": "markdown",
   "id": "fc1f6e71-16a8-47c3-88ae-c523a6c7f88d",
   "metadata": {},
   "source": [
    "### Model Dynamics"
   ]
  },
  {
   "cell_type": "code",
   "execution_count": 10,
   "id": "979bcf90-6563-4699-a3e8-c50018fbc9a6",
   "metadata": {},
   "outputs": [
    {
     "name": "stdout",
     "output_type": "stream",
     "text": [
      "Action Space = Discrete(4)\n",
      "State Space = Discrete(16)\n",
      "Reward Range = (0, 1)\n"
     ]
    }
   ],
   "source": [
    "print(f\"Action Space = {env.action_space}\")\n",
    "print(f\"State Space = {env.observation_space}\")\n",
    "print(f\"Reward Range = {env.reward_range}\")"
   ]
  },
  {
   "cell_type": "code",
   "execution_count": 18,
   "id": "7f48a6d7-6623-42ac-b95b-3cfd59643b18",
   "metadata": {},
   "outputs": [
    {
     "data": {
      "text/plain": [
       "{0: [(0.3333333333333333, 0, 0.0, False),\n",
       "  (0.3333333333333333, 4, 0.0, False),\n",
       "  (0.3333333333333333, 8, 0.0, False)],\n",
       " 1: [(0.3333333333333333, 4, 0.0, False),\n",
       "  (0.3333333333333333, 8, 0.0, False),\n",
       "  (0.3333333333333333, 5, 0.0, True)],\n",
       " 2: [(0.3333333333333333, 8, 0.0, False),\n",
       "  (0.3333333333333333, 5, 0.0, True),\n",
       "  (0.3333333333333333, 0, 0.0, False)],\n",
       " 3: [(0.3333333333333333, 5, 0.0, True),\n",
       "  (0.3333333333333333, 0, 0.0, False),\n",
       "  (0.3333333333333333, 4, 0.0, False)]}"
      ]
     },
     "execution_count": 18,
     "metadata": {},
     "output_type": "execute_result"
    }
   ],
   "source": [
    "env.get_wrapper_attr('P')[4]"
   ]
  },
  {
   "cell_type": "code",
   "execution_count": 19,
   "id": "87e903ab-2f17-4a2b-91a8-85c841888af3",
   "metadata": {},
   "outputs": [
    {
     "name": "stdout",
     "output_type": "stream",
     "text": [
      "\n",
      "\u001b[41mS\u001b[0mFFF\n",
      "FHFH\n",
      "FFFH\n",
      "HFFG\n",
      "\n"
     ]
    }
   ],
   "source": [
    "env.reset()\n",
    "print(env.render())"
   ]
  },
  {
   "cell_type": "code",
   "execution_count": 12,
   "id": "1fefa939-eccf-4c16-9b4b-5fe61a57b089",
   "metadata": {},
   "outputs": [],
   "source": [
    "# 1. Initialize value function with zeros for each state\n",
    "# 2. set a desired threshold value (0.1). \n",
    "# 3. calculate value function on each iteration \n",
    "# 4. check the difference in value between previous and current iteration \n",
    "# 5. calculate Q function. \n",
    "# 6. calculate optimal policy. "
   ]
  },
  {
   "cell_type": "code",
   "execution_count": 37,
   "id": "43b17942-59da-4af6-aed2-5a30e944bdb0",
   "metadata": {},
   "outputs": [],
   "source": [
    "import numpy as np"
   ]
  },
  {
   "cell_type": "code",
   "execution_count": 147,
   "id": "17952ebd-b24d-4493-8c70-8a52d4eab009",
   "metadata": {},
   "outputs": [],
   "source": [
    "# step, prob, action, reward, is_hole\n",
    "p = env.get_wrapper_attr(\"P\")"
   ]
  },
  {
   "cell_type": "markdown",
   "id": "80d3e6ea-51c9-4209-b8f6-2bac655c7791",
   "metadata": {},
   "source": [
    "### Value Function Implementation"
   ]
  },
  {
   "cell_type": "code",
   "execution_count": 226,
   "id": "4bfccf94-d7d4-49ba-85cd-353c27ebc759",
   "metadata": {},
   "outputs": [],
   "source": [
    "def value_function():\n",
    "    value_table = np.zeros(env.observation_space.n)\n",
    "    iterations = 1000000\n",
    "    threshold = 1e-20\n",
    "    gamma = 1.0\n",
    "    for n in range(iterations):\n",
    "        updated_values_array = value_table.copy()\n",
    "        for step in range(env.observation_space.n):\n",
    "            q_values = list()\n",
    "            for action in range(env.action_space.n):\n",
    "                details = p[step][action]\n",
    "                q_value = 0.0\n",
    "                for prob, next_state, reward, done in details:\n",
    "                    q_value += prob * (reward + (gamma * updated_values_array[next_state]))\n",
    "\n",
    "                q_values.append(q_value)\n",
    "            max_q_value = max(q_values)\n",
    "            value_table[step] = max_q_value\n",
    "        \n",
    "        if np.sum(np.fabs(updated_values_array - value_table)) <= threshold:\n",
    "            print(f\"Optimized value function is at [{step}] step\")\n",
    "            break\n",
    "\n",
    "    return value_table"
   ]
  },
  {
   "cell_type": "code",
   "execution_count": 227,
   "id": "e93ad24c-fc52-4b05-b356-5460b61a466d",
   "metadata": {},
   "outputs": [
    {
     "name": "stdout",
     "output_type": "stream",
     "text": [
      "Optimized value function is at [15] step\n"
     ]
    }
   ],
   "source": [
    "optimized_value_function_output = value_function()"
   ]
  },
  {
   "cell_type": "code",
   "execution_count": 228,
   "id": "4422230b-a8b6-447f-a867-d04fb71eb0a9",
   "metadata": {},
   "outputs": [
    {
     "data": {
      "text/plain": [
       "array([0.82352941, 0.82352941, 0.82352941, 0.82352941, 0.82352941,\n",
       "       0.        , 0.52941176, 0.        , 0.82352941, 0.82352941,\n",
       "       0.76470588, 0.        , 0.        , 0.88235294, 0.94117647,\n",
       "       0.        ])"
      ]
     },
     "execution_count": 228,
     "metadata": {},
     "output_type": "execute_result"
    }
   ],
   "source": [
    "optimized_value_function_output"
   ]
  },
  {
   "cell_type": "code",
   "execution_count": 229,
   "id": "825f1f81-8790-4fc8-bffe-57e1f759cb5a",
   "metadata": {},
   "outputs": [],
   "source": [
    "def q_function(optimized_value_function):\n",
    "    gamma = 1.0\n",
    "    policy = np.zeros(env.observation_space.n)\n",
    "    for step in range(env.observation_space.n):\n",
    "        q_values = list()\n",
    "        for action in range(env.action_space.n):\n",
    "            details = p[step][action]\n",
    "            q_value = 0\n",
    "            for prob, next_state, reward, done in details:\n",
    "                q_value += prob * (reward + gamma * optimized_value_function[next_state])\n",
    "            q_values.append(q_value)\n",
    "        policy[step] = np.argmax(q_values)\n",
    "    return policy"
   ]
  },
  {
   "cell_type": "code",
   "execution_count": 235,
   "id": "4da2ca80-16db-417e-ad5c-17cf8e9e3354",
   "metadata": {},
   "outputs": [
    {
     "name": "stdout",
     "output_type": "stream",
     "text": [
      "policy [0. 3. 3. 3. 0. 0. 0. 0. 3. 1. 0. 0. 0. 2. 1. 0.]\n"
     ]
    }
   ],
   "source": [
    "policy = q_function(optimized_value_function_output)\n",
    "print(f\"policy {policy}\")"
   ]
  },
  {
   "cell_type": "code",
   "execution_count": 260,
   "id": "2120881f-8ba8-4766-a9da-1afef2d3d4e0",
   "metadata": {},
   "outputs": [
    {
     "name": "stdout",
     "output_type": "stream",
     "text": [
      "0\n",
      "  (Left)\n",
      "\u001b[41mS\u001b[0mFFF\n",
      "FHFH\n",
      "FFFH\n",
      "HFFG\n",
      "\n",
      "  (Left)\n",
      "SFFF\n",
      "\u001b[41mF\u001b[0mHFH\n",
      "FFFH\n",
      "HFFG\n",
      "\n",
      "  (Left)\n",
      "SFFF\n",
      "FHFH\n",
      "\u001b[41mF\u001b[0mFFH\n",
      "HFFG\n",
      "\n",
      "  (Up)\n",
      "SFFF\n",
      "\u001b[41mF\u001b[0mHFH\n",
      "FFFH\n",
      "HFFG\n",
      "\n",
      "  (Left)\n",
      "SFFF\n",
      "FHFH\n",
      "\u001b[41mF\u001b[0mFFH\n",
      "HFFG\n",
      "\n",
      "  (Up)\n",
      "SFFF\n",
      "FHFH\n",
      "F\u001b[41mF\u001b[0mFH\n",
      "HFFG\n",
      "\n",
      "  (Down)\n",
      "SFFF\n",
      "FHFH\n",
      "FF\u001b[41mF\u001b[0mH\n",
      "HFFG\n",
      "\n",
      "  (Left)\n",
      "SFFF\n",
      "FHFH\n",
      "F\u001b[41mF\u001b[0mFH\n",
      "HFFG\n",
      "\n",
      "  (Down)\n",
      "SFFF\n",
      "FHFH\n",
      "FFFH\n",
      "H\u001b[41mF\u001b[0mFG\n",
      "\n",
      "  (Right)\n",
      "SFFF\n",
      "FHFH\n",
      "FFFH\n",
      "HF\u001b[41mF\u001b[0mG\n",
      "\n",
      "  (Down)\n",
      "SFFF\n",
      "FHFH\n",
      "FFFH\n",
      "HFF\u001b[41mG\u001b[0m\n",
      "\n",
      "Total steps to reach goal = 11\n"
     ]
    }
   ],
   "source": [
    "next_state, _ = env.reset()\n",
    "print(next_state)\n",
    "\n",
    "total_steps = 0\n",
    "while True:\n",
    "    next_state, reward, done, unused, prob = env.step(np.int64(policy[next_state]))\n",
    "    print(env.render())\n",
    "    total_steps = total_steps + 1\n",
    "    if done:\n",
    "        break\n",
    "\n",
    "print(f\"Total steps to reach goal = {total_steps}\")"
   ]
  },
  {
   "cell_type": "code",
   "execution_count": null,
   "id": "2bef4fd0-e4ec-4a3a-96b0-2b548fbff57a",
   "metadata": {},
   "outputs": [],
   "source": []
  },
  {
   "cell_type": "code",
   "execution_count": null,
   "id": "9f085429-a540-4ec3-b242-2c59bde2c342",
   "metadata": {},
   "outputs": [],
   "source": []
  }
 ],
 "metadata": {
  "kernelspec": {
   "display_name": "Python 3",
   "language": "python",
   "name": "python3"
  },
  "language_info": {
   "codemirror_mode": {
    "name": "ipython",
    "version": 3
   },
   "file_extension": ".py",
   "mimetype": "text/x-python",
   "name": "python",
   "nbconvert_exporter": "python",
   "pygments_lexer": "ipython3",
   "version": "3.8.8"
  }
 },
 "nbformat": 4,
 "nbformat_minor": 5
}
